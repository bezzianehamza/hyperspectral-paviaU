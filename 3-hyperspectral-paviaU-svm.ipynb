{
  "cells": [
    {
      "cell_type": "code",
      "execution_count": 8,
      "metadata": {
        "colab": {
          "base_uri": "https://localhost:8080/"
        },
        "id": "1ddRXlSvd8Ii",
        "outputId": "92643167-cf90-4ccc-89c0-236428caf665"
      },
      "outputs": [
        {
          "name": "stdout",
          "output_type": "stream",
          "text": [
            "Mounted at /content/drive\n"
          ]
        }
      ],
      "source": [
        "# Upload google drive in our COLAB\n",
        "\n",
        "from google.colab import drive\n",
        "drive.mount('/content/drive')"
      ]
    },
    {
      "cell_type": "code",
      "execution_count": 2,
      "metadata": {
        "colab": {
          "base_uri": "https://localhost:8080/"
        },
        "id": "ON1EBZkN8m_m",
        "outputId": "c6684733-0826-4c15-aef5-9743af2c1d3c"
      },
      "outputs": [
        {
          "name": "stdout",
          "output_type": "stream",
          "text": [
            "--2023-03-27 21:55:39--  http://www.ehu.eus/ccwintco/uploads/e/ee/PaviaU.mat\n",
            "Resolving www.ehu.eus (www.ehu.eus)... 158.227.0.65, 2001:720:1410::65\n",
            "Connecting to www.ehu.eus (www.ehu.eus)|158.227.0.65|:80... connected.\n",
            "HTTP request sent, awaiting response... 301 Moved Permanently\n",
            "Location: https://www.ehu.eus/ccwintco/uploads/e/ee/PaviaU.mat [following]\n",
            "--2023-03-27 21:55:39--  https://www.ehu.eus/ccwintco/uploads/e/ee/PaviaU.mat\n",
            "Connecting to www.ehu.eus (www.ehu.eus)|158.227.0.65|:443... connected.\n",
            "HTTP request sent, awaiting response... 200 OK\n",
            "Length: 34806917 (33M)\n",
            "Saving to: ‘PaviaU.mat’\n",
            "\n",
            "PaviaU.mat          100%[===================>]  33.19M  2.12MB/s    in 15s     \n",
            "\n",
            "2023-03-27 21:55:55 (2.15 MB/s) - ‘PaviaU.mat’ saved [34806917/34806917]\n",
            "\n",
            "URL transformed to HTTPS due to an HSTS policy\n",
            "--2023-03-27 21:55:55--  https://www.ehu.eus/ccwintco/uploads/5/50/PaviaU_gt.mat\n",
            "Connecting to www.ehu.eus (www.ehu.eus)|158.227.0.65|:443... connected.\n",
            "HTTP request sent, awaiting response... 200 OK\n",
            "Length: 11005 (11K)\n",
            "Saving to: ‘PaviaU_gt.mat’\n",
            "\n",
            "PaviaU_gt.mat       100%[===================>]  10.75K  --.-KB/s    in 0.001s  \n",
            "\n",
            "2023-03-27 21:55:55 (20.4 MB/s) - ‘PaviaU_gt.mat’ saved [11005/11005]\n",
            "\n",
            "FINISHED --2023-03-27 21:55:55--\n",
            "Total wall clock time: 16s\n",
            "Downloaded: 2 files, 33M in 15s (2.15 MB/s)\n"
          ]
        }
      ],
      "source": [
        "#Download HSI Data\n",
        "!wget http://www.ehu.eus/ccwintco/uploads/e/ee/PaviaU.mat http://www.ehu.eus/ccwintco/uploads/5/50/PaviaU_gt.mat"
      ]
    },
    {
      "cell_type": "code",
      "execution_count": null,
      "metadata": {
        "colab": {
          "base_uri": "https://localhost:8080/"
        },
        "id": "AwGV8nAz_2Yf",
        "outputId": "ae279a68-bd98-419e-e7c8-3b6abd089df3"
      },
      "outputs": [
        {
          "name": "stdout",
          "output_type": "stream",
          "text": [
            "PaviaU_gt.mat  PaviaU.mat  sample_data\n"
          ]
        }
      ],
      "source": [
        "!ls"
      ]
    },
    {
      "cell_type": "code",
      "execution_count": 35,
      "metadata": {
        "colab": {
          "base_uri": "https://localhost:8080/"
        },
        "id": "c5OieVRLD-Fz",
        "outputId": "f847ac3c-80b1-45a6-a359-ab258d53f80d"
      },
      "outputs": [
        {
          "name": "stdout",
          "output_type": "stream",
          "text": [
            "Data Shape: (610, 340)\n",
            "Number of Bands: 340\n"
          ]
        }
      ],
      "source": [
        "from sklearn.model_selection import train_test_split\n",
        "import numpy as np\n",
        "from scipy.io import loadmat\n",
        "# Load hyperspectral data and labels\n",
        "X =loadmat('PaviaU.mat')['paviaU']\n",
        "y=loadmat('PaviaU_gt.mat')['paviaU_gt']\n",
        "print(f'Data Shape: {X.shape[:-1]}\\nNumber of Bands: {y.shape[-1]}')"
      ]
    },
    {
      "cell_type": "code",
      "execution_count": 41,
      "metadata": {
        "id": "IAYlUPDPHU9M"
      },
      "outputs": [],
      "source": [
        "X = X.reshape(-1, X.shape[2])"
      ]
    },
    {
      "cell_type": "code",
      "execution_count": 44,
      "metadata": {
        "colab": {
          "base_uri": "https://localhost:8080/"
        },
        "id": "4nEuHke2GdZW",
        "outputId": "89ed6606-f9d9-4b9a-9acf-178872e09888"
      },
      "outputs": [
        {
          "data": {
            "text/plain": [
              "(207400,)"
            ]
          },
          "execution_count": 44,
          "metadata": {},
          "output_type": "execute_result"
        }
      ],
      "source": [
        "y = np.reshape(y, (-1))\n",
        "y.shape"
      ]
    },
    {
      "cell_type": "code",
      "execution_count": null,
      "metadata": {
        "id": "Km5ZsAnGO30i"
      },
      "outputs": [],
      "source": [
        "from sklearn.svm import SVC\n",
        "X_train, X_test, y_train, y_test = train_test_split(X, y, test_size=0.20, random_state=11, stratify=y)\n",
        "svm = SVC(C = 100, kernel ='rbf', cache_size = 10*1024)\n",
        "svm.fit(X_train, y_train)\n",
        "ypred = svm.predict(X_test)"
      ]
    },
    {
      "cell_type": "code",
      "execution_count": 46,
      "metadata": {
        "colab": {
          "base_uri": "https://localhost:8080/"
        },
        "id": "fH5QSMWrRyhJ",
        "outputId": "5cd626c0-9992-4cd1-916b-0ca1a7be43a4"
      },
      "outputs": [
        {
          "name": "stdout",
          "output_type": "stream",
          "text": [
            "SVM accuracy: 0.834450337512054\n"
          ]
        }
      ],
      "source": [
        "from sklearn.metrics import accuracy_score\n",
        "acc = accuracy_score(y_test,ypred)\n",
        "print(\"SVM accuracy:\",acc)"
      ]
    },
    {
      "cell_type": "code",
      "execution_count": 47,
      "metadata": {
        "colab": {
          "base_uri": "https://localhost:8080/"
        },
        "id": "y7w3Rn1JHtG8",
        "outputId": "4817ba9a-2922-4128-bf95-6d21ed866d2c"
      },
      "outputs": [
        {
          "name": "stdout",
          "output_type": "stream",
          "text": [
            "Classification report:\n",
            "               precision    recall  f1-score   support\n",
            "\n",
            "           0       0.85      0.97      0.90     32925\n",
            "           1       0.00      0.00      0.00      1326\n",
            "           2       0.71      0.61      0.65      3730\n",
            "           3       0.86      0.01      0.03       420\n",
            "           4       0.75      0.10      0.18       613\n",
            "           5       0.82      0.91      0.86       269\n",
            "           6       1.00      0.00      0.01      1006\n",
            "           7       0.67      0.62      0.64       266\n",
            "           8       0.67      0.01      0.03       736\n",
            "           9       0.00      0.00      0.00       189\n",
            "\n",
            "    accuracy                           0.83     41480\n",
            "   macro avg       0.63      0.32      0.33     41480\n",
            "weighted avg       0.80      0.83      0.79     41480\n",
            "\n"
          ]
        }
      ],
      "source": [
        "from sklearn.metrics import classification_report\n",
        "print('Classification report:\\n', classification_report(y_test,ypred,zero_division=0))"
      ]
    },
    {
      "cell_type": "code",
      "execution_count": 48,
      "metadata": {
        "colab": {
          "base_uri": "https://localhost:8080/",
          "height": 689
        },
        "id": "kB-UG3NsO-FT",
        "outputId": "8c256dfa-b2aa-4df9-9d3d-682b7683f15a"
      },
      "outputs": [
        {
          "data": {
            "image/png": "[encoded data removed]",
            "text/plain": [
              "<Figure size 864x864 with 2 Axes>"
            ]
          },
          "metadata": {
            "needs_background": "light"
          },
          "output_type": "display_data"
        }
      ],
      "source": [
        "from sklearn.metrics import confusion_matrix\n",
        "! pip install -q scikit-plot\n",
        "import scikitplot as skplt\n",
        "skplt.metrics.plot_confusion_matrix(\n",
        "    y_test, \n",
        "    ypred,\n",
        "    figsize=(12,12));"
      ]
    }
  ],
  "metadata": {
    "colab": {
      "provenance": []
    },
    "kernelspec": {
      "display_name": "Python 3",
      "name": "python3"
    },
    "language_info": {
      "name": "python"
    }
  },
  "nbformat": 4,
  "nbformat_minor": 0
}
